{
 "cells": [
  {
   "cell_type": "code",
   "execution_count": null,
   "id": "f5e21d46",
   "metadata": {},
   "outputs": [],
   "source": [
    "#Lab Assignment-3\n",
    "#Descriptive Statistics - Measures of Central Tendency and variability\n",
    "#Perform the following operations on any open source dataset (e.g., data.csv)\n",
    "#1. Provide summary statistics (mean, median, minimum, maximum, standard deviation) for\n",
    "#a dataset (age, income etc.) with numeric variables grouped by one of the qualitative\n",
    "#(categorical) variable. For example, if your categorical variable is age groups and\n",
    "#quantitative variable is income, then provide summary statistics of income grouped by the\n",
    "#age groups. Create a list that contains a numeric value for each response to the categorical\n",
    "#variable."
   ]
  },
  {
   "cell_type": "code",
   "execution_count": 1,
   "id": "fdd6c942",
   "metadata": {},
   "outputs": [],
   "source": [
    "import pandas as pd"
   ]
  },
  {
   "cell_type": "code",
   "execution_count": 2,
   "id": "6b32448d",
   "metadata": {},
   "outputs": [],
   "source": [
    "import numpy as np"
   ]
  },
  {
   "cell_type": "code",
   "execution_count": 3,
   "id": "3834a980",
   "metadata": {},
   "outputs": [],
   "source": [
    "import statistics as st"
   ]
  },
  {
   "cell_type": "code",
   "execution_count": 6,
   "id": "765bcd9c",
   "metadata": {},
   "outputs": [
    {
     "data": {
      "text/html": [
       "<div>\n",
       "<style scoped>\n",
       "    .dataframe tbody tr th:only-of-type {\n",
       "        vertical-align: middle;\n",
       "    }\n",
       "\n",
       "    .dataframe tbody tr th {\n",
       "        vertical-align: top;\n",
       "    }\n",
       "\n",
       "    .dataframe thead th {\n",
       "        text-align: right;\n",
       "    }\n",
       "</style>\n",
       "<table border=\"1\" class=\"dataframe\">\n",
       "  <thead>\n",
       "    <tr style=\"text-align: right;\">\n",
       "      <th></th>\n",
       "      <th>Unnamed: 0</th>\n",
       "      <th>Loan_ID</th>\n",
       "      <th>Gender</th>\n",
       "      <th>Married</th>\n",
       "      <th>Dependents</th>\n",
       "      <th>Education</th>\n",
       "      <th>Self_Employed</th>\n",
       "      <th>ApplicantIncome</th>\n",
       "      <th>CoapplicantIncome</th>\n",
       "      <th>LoanAmount</th>\n",
       "      <th>Loan_Amount_Term</th>\n",
       "      <th>Credit_History</th>\n",
       "      <th>Property_Area</th>\n",
       "      <th>Loan_Status</th>\n",
       "      <th>Total_Income</th>\n",
       "    </tr>\n",
       "  </thead>\n",
       "  <tbody>\n",
       "    <tr>\n",
       "      <th>0</th>\n",
       "      <td>0</td>\n",
       "      <td>LP001002</td>\n",
       "      <td>Male</td>\n",
       "      <td>No</td>\n",
       "      <td>0</td>\n",
       "      <td>Graduate</td>\n",
       "      <td>No</td>\n",
       "      <td>5849</td>\n",
       "      <td>0.0</td>\n",
       "      <td>NaN</td>\n",
       "      <td>360.0</td>\n",
       "      <td>1.0</td>\n",
       "      <td>Urban</td>\n",
       "      <td>Y</td>\n",
       "      <td>$5,849.00</td>\n",
       "    </tr>\n",
       "    <tr>\n",
       "      <th>1</th>\n",
       "      <td>1</td>\n",
       "      <td>LP001003</td>\n",
       "      <td>Male</td>\n",
       "      <td>Yes</td>\n",
       "      <td>1</td>\n",
       "      <td>Graduate</td>\n",
       "      <td>No</td>\n",
       "      <td>4583</td>\n",
       "      <td>1508.0</td>\n",
       "      <td>128.0</td>\n",
       "      <td>360.0</td>\n",
       "      <td>1.0</td>\n",
       "      <td>Rural</td>\n",
       "      <td>N</td>\n",
       "      <td>$6,091.00</td>\n",
       "    </tr>\n",
       "    <tr>\n",
       "      <th>2</th>\n",
       "      <td>2</td>\n",
       "      <td>LP001005</td>\n",
       "      <td>Male</td>\n",
       "      <td>Yes</td>\n",
       "      <td>0</td>\n",
       "      <td>Graduate</td>\n",
       "      <td>Yes</td>\n",
       "      <td>3000</td>\n",
       "      <td>0.0</td>\n",
       "      <td>66.0</td>\n",
       "      <td>360.0</td>\n",
       "      <td>1.0</td>\n",
       "      <td>Urban</td>\n",
       "      <td>Y</td>\n",
       "      <td>$3,000.00</td>\n",
       "    </tr>\n",
       "    <tr>\n",
       "      <th>3</th>\n",
       "      <td>3</td>\n",
       "      <td>LP001006</td>\n",
       "      <td>Male</td>\n",
       "      <td>Yes</td>\n",
       "      <td>0</td>\n",
       "      <td>Not Graduate</td>\n",
       "      <td>No</td>\n",
       "      <td>2583</td>\n",
       "      <td>2358.0</td>\n",
       "      <td>120.0</td>\n",
       "      <td>360.0</td>\n",
       "      <td>1.0</td>\n",
       "      <td>Urban</td>\n",
       "      <td>Y</td>\n",
       "      <td>$4,941.00</td>\n",
       "    </tr>\n",
       "    <tr>\n",
       "      <th>4</th>\n",
       "      <td>4</td>\n",
       "      <td>LP001008</td>\n",
       "      <td>Male</td>\n",
       "      <td>No</td>\n",
       "      <td>0</td>\n",
       "      <td>Graduate</td>\n",
       "      <td>No</td>\n",
       "      <td>6000</td>\n",
       "      <td>0.0</td>\n",
       "      <td>141.0</td>\n",
       "      <td>360.0</td>\n",
       "      <td>1.0</td>\n",
       "      <td>Urban</td>\n",
       "      <td>Y</td>\n",
       "      <td>$6,000.00</td>\n",
       "    </tr>\n",
       "    <tr>\n",
       "      <th>...</th>\n",
       "      <td>...</td>\n",
       "      <td>...</td>\n",
       "      <td>...</td>\n",
       "      <td>...</td>\n",
       "      <td>...</td>\n",
       "      <td>...</td>\n",
       "      <td>...</td>\n",
       "      <td>...</td>\n",
       "      <td>...</td>\n",
       "      <td>...</td>\n",
       "      <td>...</td>\n",
       "      <td>...</td>\n",
       "      <td>...</td>\n",
       "      <td>...</td>\n",
       "      <td>...</td>\n",
       "    </tr>\n",
       "    <tr>\n",
       "      <th>495</th>\n",
       "      <td>495</td>\n",
       "      <td>LP002586</td>\n",
       "      <td>Female</td>\n",
       "      <td>Yes</td>\n",
       "      <td>1</td>\n",
       "      <td>Graduate</td>\n",
       "      <td>No</td>\n",
       "      <td>3326</td>\n",
       "      <td>913.0</td>\n",
       "      <td>105.0</td>\n",
       "      <td>84.0</td>\n",
       "      <td>1.0</td>\n",
       "      <td>Semiurban</td>\n",
       "      <td>Y</td>\n",
       "      <td>$4,239.00</td>\n",
       "    </tr>\n",
       "    <tr>\n",
       "      <th>496</th>\n",
       "      <td>496</td>\n",
       "      <td>LP002587</td>\n",
       "      <td>Male</td>\n",
       "      <td>Yes</td>\n",
       "      <td>0</td>\n",
       "      <td>Not Graduate</td>\n",
       "      <td>No</td>\n",
       "      <td>2600</td>\n",
       "      <td>1700.0</td>\n",
       "      <td>107.0</td>\n",
       "      <td>360.0</td>\n",
       "      <td>1.0</td>\n",
       "      <td>Rural</td>\n",
       "      <td>Y</td>\n",
       "      <td>$4,300.00</td>\n",
       "    </tr>\n",
       "    <tr>\n",
       "      <th>497</th>\n",
       "      <td>497</td>\n",
       "      <td>LP002588</td>\n",
       "      <td>Male</td>\n",
       "      <td>Yes</td>\n",
       "      <td>0</td>\n",
       "      <td>Graduate</td>\n",
       "      <td>No</td>\n",
       "      <td>4625</td>\n",
       "      <td>2857.0</td>\n",
       "      <td>111.0</td>\n",
       "      <td>12.0</td>\n",
       "      <td>NaN</td>\n",
       "      <td>Urban</td>\n",
       "      <td>Y</td>\n",
       "      <td>$7,482.00</td>\n",
       "    </tr>\n",
       "    <tr>\n",
       "      <th>498</th>\n",
       "      <td>498</td>\n",
       "      <td>LP002600</td>\n",
       "      <td>Male</td>\n",
       "      <td>Yes</td>\n",
       "      <td>1</td>\n",
       "      <td>Graduate</td>\n",
       "      <td>Yes</td>\n",
       "      <td>2895</td>\n",
       "      <td>0.0</td>\n",
       "      <td>95.0</td>\n",
       "      <td>360.0</td>\n",
       "      <td>1.0</td>\n",
       "      <td>Semiurban</td>\n",
       "      <td>Y</td>\n",
       "      <td>$2,895.00</td>\n",
       "    </tr>\n",
       "    <tr>\n",
       "      <th>499</th>\n",
       "      <td>499</td>\n",
       "      <td>LP002602</td>\n",
       "      <td>Male</td>\n",
       "      <td>No</td>\n",
       "      <td>0</td>\n",
       "      <td>Graduate</td>\n",
       "      <td>No</td>\n",
       "      <td>6283</td>\n",
       "      <td>4416.0</td>\n",
       "      <td>209.0</td>\n",
       "      <td>360.0</td>\n",
       "      <td>0.0</td>\n",
       "      <td>Rural</td>\n",
       "      <td>N</td>\n",
       "      <td>$10,699.00</td>\n",
       "    </tr>\n",
       "  </tbody>\n",
       "</table>\n",
       "<p>500 rows × 15 columns</p>\n",
       "</div>"
      ],
      "text/plain": [
       "     Unnamed: 0   Loan_ID  Gender Married Dependents     Education  \\\n",
       "0             0  LP001002    Male      No          0      Graduate   \n",
       "1             1  LP001003    Male     Yes          1      Graduate   \n",
       "2             2  LP001005    Male     Yes          0      Graduate   \n",
       "3             3  LP001006    Male     Yes          0  Not Graduate   \n",
       "4             4  LP001008    Male      No          0      Graduate   \n",
       "..          ...       ...     ...     ...        ...           ...   \n",
       "495         495  LP002586  Female     Yes          1      Graduate   \n",
       "496         496  LP002587    Male     Yes          0  Not Graduate   \n",
       "497         497  LP002588    Male     Yes          0      Graduate   \n",
       "498         498  LP002600    Male     Yes          1      Graduate   \n",
       "499         499  LP002602    Male      No          0      Graduate   \n",
       "\n",
       "    Self_Employed  ApplicantIncome  CoapplicantIncome  LoanAmount  \\\n",
       "0              No             5849                0.0         NaN   \n",
       "1              No             4583             1508.0       128.0   \n",
       "2             Yes             3000                0.0        66.0   \n",
       "3              No             2583             2358.0       120.0   \n",
       "4              No             6000                0.0       141.0   \n",
       "..            ...              ...                ...         ...   \n",
       "495            No             3326              913.0       105.0   \n",
       "496            No             2600             1700.0       107.0   \n",
       "497            No             4625             2857.0       111.0   \n",
       "498           Yes             2895                0.0        95.0   \n",
       "499            No             6283             4416.0       209.0   \n",
       "\n",
       "     Loan_Amount_Term  Credit_History Property_Area Loan_Status Total_Income  \n",
       "0               360.0             1.0         Urban           Y    $5,849.00  \n",
       "1               360.0             1.0         Rural           N    $6,091.00  \n",
       "2               360.0             1.0         Urban           Y    $3,000.00  \n",
       "3               360.0             1.0         Urban           Y    $4,941.00  \n",
       "4               360.0             1.0         Urban           Y    $6,000.00  \n",
       "..                ...             ...           ...         ...          ...  \n",
       "495              84.0             1.0     Semiurban           Y    $4,239.00  \n",
       "496             360.0             1.0         Rural           Y    $4,300.00  \n",
       "497              12.0             NaN         Urban           Y    $7,482.00  \n",
       "498             360.0             1.0     Semiurban           Y    $2,895.00  \n",
       "499             360.0             0.0         Rural           N   $10,699.00  \n",
       "\n",
       "[500 rows x 15 columns]"
      ]
     },
     "execution_count": 6,
     "metadata": {},
     "output_type": "execute_result"
    }
   ],
   "source": [
    "df = pd.read_csv(\"C:\\\\Users\\\\rhuta\\Downloads\\\\loan.csv - loan.csv.csv\")\n",
    "df"
   ]
  },
  {
   "cell_type": "code",
   "execution_count": 7,
   "id": "1726b244",
   "metadata": {},
   "outputs": [
    {
     "name": "stdout",
     "output_type": "stream",
     "text": [
      "(500, 15)\n"
     ]
    }
   ],
   "source": [
    "print(df.shape)"
   ]
  },
  {
   "cell_type": "code",
   "execution_count": 8,
   "id": "ca751d1a",
   "metadata": {},
   "outputs": [
    {
     "name": "stdout",
     "output_type": "stream",
     "text": [
      "<class 'pandas.core.frame.DataFrame'>\n",
      "RangeIndex: 500 entries, 0 to 499\n",
      "Data columns (total 15 columns):\n",
      " #   Column             Non-Null Count  Dtype  \n",
      "---  ------             --------------  -----  \n",
      " 0   Unnamed: 0         500 non-null    int64  \n",
      " 1   Loan_ID            500 non-null    object \n",
      " 2   Gender             491 non-null    object \n",
      " 3   Married            497 non-null    object \n",
      " 4   Dependents         488 non-null    object \n",
      " 5   Education          500 non-null    object \n",
      " 6   Self_Employed      473 non-null    object \n",
      " 7   ApplicantIncome    500 non-null    int64  \n",
      " 8   CoapplicantIncome  500 non-null    float64\n",
      " 9   LoanAmount         482 non-null    float64\n",
      " 10  Loan_Amount_Term   486 non-null    float64\n",
      " 11  Credit_History     459 non-null    float64\n",
      " 12  Property_Area      500 non-null    object \n",
      " 13  Loan_Status        500 non-null    object \n",
      " 14  Total_Income       500 non-null    object \n",
      "dtypes: float64(4), int64(2), object(9)\n",
      "memory usage: 58.7+ KB\n",
      "None\n"
     ]
    }
   ],
   "source": [
    "print(df.info())"
   ]
  },
  {
   "cell_type": "code",
   "execution_count": 9,
   "id": "ae1223b1",
   "metadata": {},
   "outputs": [
    {
     "name": "stderr",
     "output_type": "stream",
     "text": [
      "C:\\Users\\rhuta\\AppData\\Local\\Temp\\ipykernel_2116\\3698961737.py:1: FutureWarning: Dropping of nuisance columns in DataFrame reductions (with 'numeric_only=None') is deprecated; in a future version this will raise TypeError.  Select only valid columns before calling the reduction.\n",
      "  df.mean()\n"
     ]
    },
    {
     "data": {
      "text/plain": [
       "Unnamed: 0            249.500000\n",
       "ApplicantIncome      5493.644000\n",
       "CoapplicantIncome    1506.307840\n",
       "LoanAmount            144.020747\n",
       "Loan_Amount_Term      342.543210\n",
       "Credit_History          0.843137\n",
       "dtype: float64"
      ]
     },
     "execution_count": 9,
     "metadata": {},
     "output_type": "execute_result"
    }
   ],
   "source": [
    "df.mean()"
   ]
  },
  {
   "cell_type": "code",
   "execution_count": 10,
   "id": "c9300c8d",
   "metadata": {},
   "outputs": [
    {
     "name": "stderr",
     "output_type": "stream",
     "text": [
      "C:\\Users\\rhuta\\AppData\\Local\\Temp\\ipykernel_2116\\1151452817.py:1: FutureWarning: Dropping of nuisance columns in DataFrame reductions (with 'numeric_only=None') is deprecated; in a future version this will raise TypeError.  Select only valid columns before calling the reduction.\n",
      "  df.max()\n"
     ]
    },
    {
     "data": {
      "text/plain": [
       "Unnamed: 0                    499\n",
       "Loan_ID                  LP002602\n",
       "Education            Not Graduate\n",
       "ApplicantIncome             81000\n",
       "CoapplicantIncome         20000.0\n",
       "LoanAmount                  700.0\n",
       "Loan_Amount_Term            480.0\n",
       "Credit_History                1.0\n",
       "Property_Area               Urban\n",
       "Loan_Status                     Y\n",
       "Total_Income            $9,993.00\n",
       "dtype: object"
      ]
     },
     "execution_count": 10,
     "metadata": {},
     "output_type": "execute_result"
    }
   ],
   "source": [
    "df.max()"
   ]
  },
  {
   "cell_type": "code",
   "execution_count": 11,
   "id": "7b1594a8",
   "metadata": {},
   "outputs": [
    {
     "name": "stderr",
     "output_type": "stream",
     "text": [
      "C:\\Users\\rhuta\\AppData\\Local\\Temp\\ipykernel_2116\\3962516015.py:1: FutureWarning: Dropping of nuisance columns in DataFrame reductions (with 'numeric_only=None') is deprecated; in a future version this will raise TypeError.  Select only valid columns before calling the reduction.\n",
      "  df.min()\n"
     ]
    },
    {
     "data": {
      "text/plain": [
       "Unnamed: 0                   0\n",
       "Loan_ID               LP001002\n",
       "Education             Graduate\n",
       "ApplicantIncome            150\n",
       "CoapplicantIncome          0.0\n",
       "LoanAmount                17.0\n",
       "Loan_Amount_Term          12.0\n",
       "Credit_History             0.0\n",
       "Property_Area            Rural\n",
       "Loan_Status                  N\n",
       "Total_Income         $1,442.00\n",
       "dtype: object"
      ]
     },
     "execution_count": 11,
     "metadata": {},
     "output_type": "execute_result"
    }
   ],
   "source": [
    "df.min()"
   ]
  },
  {
   "cell_type": "code",
   "execution_count": 12,
   "id": "fb3b9ebe",
   "metadata": {},
   "outputs": [
    {
     "data": {
      "text/plain": [
       "<bound method NDFrame._add_numeric_operations.<locals>.median of      Unnamed: 0   Loan_ID  Gender Married Dependents     Education  \\\n",
       "0             0  LP001002    Male      No          0      Graduate   \n",
       "1             1  LP001003    Male     Yes          1      Graduate   \n",
       "2             2  LP001005    Male     Yes          0      Graduate   \n",
       "3             3  LP001006    Male     Yes          0  Not Graduate   \n",
       "4             4  LP001008    Male      No          0      Graduate   \n",
       "..          ...       ...     ...     ...        ...           ...   \n",
       "495         495  LP002586  Female     Yes          1      Graduate   \n",
       "496         496  LP002587    Male     Yes          0  Not Graduate   \n",
       "497         497  LP002588    Male     Yes          0      Graduate   \n",
       "498         498  LP002600    Male     Yes          1      Graduate   \n",
       "499         499  LP002602    Male      No          0      Graduate   \n",
       "\n",
       "    Self_Employed  ApplicantIncome  CoapplicantIncome  LoanAmount  \\\n",
       "0              No             5849                0.0         NaN   \n",
       "1              No             4583             1508.0       128.0   \n",
       "2             Yes             3000                0.0        66.0   \n",
       "3              No             2583             2358.0       120.0   \n",
       "4              No             6000                0.0       141.0   \n",
       "..            ...              ...                ...         ...   \n",
       "495            No             3326              913.0       105.0   \n",
       "496            No             2600             1700.0       107.0   \n",
       "497            No             4625             2857.0       111.0   \n",
       "498           Yes             2895                0.0        95.0   \n",
       "499            No             6283             4416.0       209.0   \n",
       "\n",
       "     Loan_Amount_Term  Credit_History Property_Area Loan_Status Total_Income  \n",
       "0               360.0             1.0         Urban           Y    $5,849.00  \n",
       "1               360.0             1.0         Rural           N    $6,091.00  \n",
       "2               360.0             1.0         Urban           Y    $3,000.00  \n",
       "3               360.0             1.0         Urban           Y    $4,941.00  \n",
       "4               360.0             1.0         Urban           Y    $6,000.00  \n",
       "..                ...             ...           ...         ...          ...  \n",
       "495              84.0             1.0     Semiurban           Y    $4,239.00  \n",
       "496             360.0             1.0         Rural           Y    $4,300.00  \n",
       "497              12.0             NaN         Urban           Y    $7,482.00  \n",
       "498             360.0             1.0     Semiurban           Y    $2,895.00  \n",
       "499             360.0             0.0         Rural           N   $10,699.00  \n",
       "\n",
       "[500 rows x 15 columns]>"
      ]
     },
     "execution_count": 12,
     "metadata": {},
     "output_type": "execute_result"
    }
   ],
   "source": [
    "df.median"
   ]
  },
  {
   "cell_type": "code",
   "execution_count": 13,
   "id": "517c3906",
   "metadata": {},
   "outputs": [
    {
     "name": "stderr",
     "output_type": "stream",
     "text": [
      "C:\\Users\\rhuta\\AppData\\Local\\Temp\\ipykernel_2116\\3390915376.py:1: FutureWarning: Dropping of nuisance columns in DataFrame reductions (with 'numeric_only=None') is deprecated; in a future version this will raise TypeError.  Select only valid columns before calling the reduction.\n",
      "  df.std()\n"
     ]
    },
    {
     "data": {
      "text/plain": [
       "Unnamed: 0            144.481833\n",
       "ApplicantIncome      6515.668972\n",
       "CoapplicantIncome    2134.432188\n",
       "LoanAmount             82.344919\n",
       "Loan_Amount_Term       63.834977\n",
       "Credit_History          0.364068\n",
       "dtype: float64"
      ]
     },
     "execution_count": 13,
     "metadata": {},
     "output_type": "execute_result"
    }
   ],
   "source": [
    "df.std()"
   ]
  },
  {
   "cell_type": "code",
   "execution_count": 15,
   "id": "1383e00e",
   "metadata": {},
   "outputs": [
    {
     "name": "stdout",
     "output_type": "stream",
     "text": [
      "144.0207468879668\n"
     ]
    }
   ],
   "source": [
    "print(df.loc[:,'LoanAmount'].mean())"
   ]
  },
  {
   "cell_type": "code",
   "execution_count": 16,
   "id": "a7815c9e",
   "metadata": {},
   "outputs": [
    {
     "name": "stderr",
     "output_type": "stream",
     "text": [
      "C:\\Users\\rhuta\\AppData\\Local\\Temp\\ipykernel_2116\\369270116.py:1: FutureWarning: Dropping of nuisance columns in DataFrame reductions (with 'numeric_only=None') is deprecated; in a future version this will raise TypeError.  Select only valid columns before calling the reduction.\n",
      "  df.mean(axis = 1)[0:5]\n"
     ]
    },
    {
     "data": {
      "text/plain": [
       "0    1242.000000\n",
       "1    1096.833333\n",
       "2     571.500000\n",
       "3     904.166667\n",
       "4    1084.333333\n",
       "dtype: float64"
      ]
     },
     "execution_count": 16,
     "metadata": {},
     "output_type": "execute_result"
    }
   ],
   "source": [
    "df.mean(axis = 1)[0:5]"
   ]
  },
  {
   "cell_type": "code",
   "execution_count": 18,
   "id": "53f222a3",
   "metadata": {},
   "outputs": [
    {
     "name": "stdout",
     "output_type": "stream",
     "text": [
      "126.5\n"
     ]
    }
   ],
   "source": [
    "print(df.loc[:,'LoanAmount'].median())"
   ]
  },
  {
   "cell_type": "code",
   "execution_count": 19,
   "id": "92a12bb2",
   "metadata": {},
   "outputs": [
    {
     "name": "stderr",
     "output_type": "stream",
     "text": [
      "C:\\Users\\rhuta\\AppData\\Local\\Temp\\ipykernel_2116\\1941941222.py:1: FutureWarning: Dropping of nuisance columns in DataFrame reductions (with 'numeric_only=None') is deprecated; in a future version this will raise TypeError.  Select only valid columns before calling the reduction.\n",
      "  df.median(axis = 1)[0:5]\n"
     ]
    },
    {
     "data": {
      "text/plain": [
       "0      1.0\n",
       "1    244.0\n",
       "2     34.0\n",
       "3    240.0\n",
       "4     72.5\n",
       "dtype: float64"
      ]
     },
     "execution_count": 19,
     "metadata": {},
     "output_type": "execute_result"
    }
   ],
   "source": [
    "df.median(axis = 1)[0:5]"
   ]
  },
  {
   "cell_type": "code",
   "execution_count": 20,
   "id": "3a049b49",
   "metadata": {},
   "outputs": [
    {
     "name": "stderr",
     "output_type": "stream",
     "text": [
      "C:\\Users\\rhuta\\AppData\\Local\\Temp\\ipykernel_2116\\1568254755.py:1: FutureWarning: Dropping of nuisance columns in DataFrame reductions (with 'numeric_only=None') is deprecated; in a future version this will raise TypeError.  Select only valid columns before calling the reduction.\n",
      "  df.var()\n"
     ]
    },
    {
     "data": {
      "text/plain": [
       "Unnamed: 0           2.087500e+04\n",
       "ApplicantIncome      4.245394e+07\n",
       "CoapplicantIncome    4.555801e+06\n",
       "LoanAmount           6.780686e+03\n",
       "Loan_Amount_Term     4.074904e+03\n",
       "Credit_History       1.325456e-01\n",
       "dtype: float64"
      ]
     },
     "execution_count": 20,
     "metadata": {},
     "output_type": "execute_result"
    }
   ],
   "source": [
    "df.var()"
   ]
  },
  {
   "cell_type": "code",
   "execution_count": 21,
   "id": "b7997376",
   "metadata": {},
   "outputs": [
    {
     "data": {
      "text/html": [
       "<div>\n",
       "<style scoped>\n",
       "    .dataframe tbody tr th:only-of-type {\n",
       "        vertical-align: middle;\n",
       "    }\n",
       "\n",
       "    .dataframe tbody tr th {\n",
       "        vertical-align: top;\n",
       "    }\n",
       "\n",
       "    .dataframe thead th {\n",
       "        text-align: right;\n",
       "    }\n",
       "</style>\n",
       "<table border=\"1\" class=\"dataframe\">\n",
       "  <thead>\n",
       "    <tr style=\"text-align: right;\">\n",
       "      <th></th>\n",
       "      <th>LoanAmount</th>\n",
       "    </tr>\n",
       "    <tr>\n",
       "      <th>Gender</th>\n",
       "      <th></th>\n",
       "    </tr>\n",
       "  </thead>\n",
       "  <tbody>\n",
       "    <tr>\n",
       "      <th>Female</th>\n",
       "      <td>121.068182</td>\n",
       "    </tr>\n",
       "    <tr>\n",
       "      <th>Male</th>\n",
       "      <td>147.197403</td>\n",
       "    </tr>\n",
       "  </tbody>\n",
       "</table>\n",
       "</div>"
      ],
      "text/plain": [
       "        LoanAmount\n",
       "Gender            \n",
       "Female  121.068182\n",
       "Male    147.197403"
      ]
     },
     "execution_count": 21,
     "metadata": {},
     "output_type": "execute_result"
    }
   ],
   "source": [
    "df[[\"Gender\",\"LoanAmount\"]].groupby(\"Gender\").mean()"
   ]
  },
  {
   "cell_type": "code",
   "execution_count": 22,
   "id": "5b607f28",
   "metadata": {},
   "outputs": [
    {
     "data": {
      "text/html": [
       "<div>\n",
       "<style scoped>\n",
       "    .dataframe tbody tr th:only-of-type {\n",
       "        vertical-align: middle;\n",
       "    }\n",
       "\n",
       "    .dataframe tbody tr th {\n",
       "        vertical-align: top;\n",
       "    }\n",
       "\n",
       "    .dataframe thead th {\n",
       "        text-align: right;\n",
       "    }\n",
       "</style>\n",
       "<table border=\"1\" class=\"dataframe\">\n",
       "  <thead>\n",
       "    <tr style=\"text-align: right;\">\n",
       "      <th></th>\n",
       "      <th>LoanAmount</th>\n",
       "    </tr>\n",
       "    <tr>\n",
       "      <th>Gender</th>\n",
       "      <th></th>\n",
       "    </tr>\n",
       "  </thead>\n",
       "  <tbody>\n",
       "    <tr>\n",
       "      <th>Female</th>\n",
       "      <td>115.5</td>\n",
       "    </tr>\n",
       "    <tr>\n",
       "      <th>Male</th>\n",
       "      <td>128.0</td>\n",
       "    </tr>\n",
       "  </tbody>\n",
       "</table>\n",
       "</div>"
      ],
      "text/plain": [
       "        LoanAmount\n",
       "Gender            \n",
       "Female       115.5\n",
       "Male         128.0"
      ]
     },
     "execution_count": 22,
     "metadata": {},
     "output_type": "execute_result"
    }
   ],
   "source": [
    "df[[\"Gender\",\"LoanAmount\"]].groupby(\"Gender\").median()"
   ]
  },
  {
   "cell_type": "code",
   "execution_count": 23,
   "id": "9a3af5ec",
   "metadata": {},
   "outputs": [
    {
     "data": {
      "text/html": [
       "<div>\n",
       "<style scoped>\n",
       "    .dataframe tbody tr th:only-of-type {\n",
       "        vertical-align: middle;\n",
       "    }\n",
       "\n",
       "    .dataframe tbody tr th {\n",
       "        vertical-align: top;\n",
       "    }\n",
       "\n",
       "    .dataframe thead th {\n",
       "        text-align: right;\n",
       "    }\n",
       "</style>\n",
       "<table border=\"1\" class=\"dataframe\">\n",
       "  <thead>\n",
       "    <tr style=\"text-align: right;\">\n",
       "      <th></th>\n",
       "      <th>LoanAmount</th>\n",
       "    </tr>\n",
       "    <tr>\n",
       "      <th>Self_Employed</th>\n",
       "      <th></th>\n",
       "    </tr>\n",
       "  </thead>\n",
       "  <tbody>\n",
       "    <tr>\n",
       "      <th>No</th>\n",
       "      <td>141.836735</td>\n",
       "    </tr>\n",
       "    <tr>\n",
       "      <th>Yes</th>\n",
       "      <td>155.312500</td>\n",
       "    </tr>\n",
       "  </tbody>\n",
       "</table>\n",
       "</div>"
      ],
      "text/plain": [
       "               LoanAmount\n",
       "Self_Employed            \n",
       "No             141.836735\n",
       "Yes            155.312500"
      ]
     },
     "execution_count": 23,
     "metadata": {},
     "output_type": "execute_result"
    }
   ],
   "source": [
    "df[[\"Self_Employed\",\"LoanAmount\"]].groupby(\"Self_Employed\").mean()"
   ]
  }
 ],
 "metadata": {
  "kernelspec": {
   "display_name": "Python 3 (ipykernel)",
   "language": "python",
   "name": "python3"
  },
  "language_info": {
   "codemirror_mode": {
    "name": "ipython",
    "version": 3
   },
   "file_extension": ".py",
   "mimetype": "text/x-python",
   "name": "python",
   "nbconvert_exporter": "python",
   "pygments_lexer": "ipython3",
   "version": "3.9.12"
  }
 },
 "nbformat": 4,
 "nbformat_minor": 5
}
