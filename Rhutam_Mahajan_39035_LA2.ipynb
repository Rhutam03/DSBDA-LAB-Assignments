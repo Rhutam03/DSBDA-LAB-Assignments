{
 "cells": [
  {
   "cell_type": "code",
   "execution_count": 1,
   "id": "008ccaa9",
   "metadata": {},
   "outputs": [
    {
     "data": {
      "text/plain": [
       "'Data Wrangling II\\nCreate an “Academic performance” dataset of students and perform the following\\noperations using\\nPython.\\n1. Scan all variables for missing values and inconsistencies. If there are missing values\\nand/or\\ninconsistencies, use any of the suitable techniques to deal with them.\\n2. Scan all numeric variables for outliers. If there are outliers, use any of the suitable\\ntechniques to deal with them.\\n3. Apply data transformations on at least one of the variables. The purpose of this\\ntransformation should be one of the following reasons: to change the scale for better\\nunderstanding of the variable, to convert a non-linear relation into a linear one, or to\\ndecrease the skewness and convert the distribution into a normal distribution'"
      ]
     },
     "execution_count": 1,
     "metadata": {},
     "output_type": "execute_result"
    }
   ],
   "source": [
    "#LA2\n",
    "\"\"\"Data Wrangling II\n",
    "Create an “Academic performance” dataset of students and perform the following\n",
    "operations using\n",
    "Python.\n",
    "1. Scan all variables for missing values and inconsistencies. If there are missing values\n",
    "and/or\n",
    "inconsistencies, use any of the suitable techniques to deal with them.\n",
    "2. Scan all numeric variables for outliers. If there are outliers, use any of the suitable\n",
    "techniques to deal with them.\n",
    "3. Apply data transformations on at least one of the variables. The purpose of this\n",
    "transformation should be one of the following reasons: to change the scale for better\n",
    "understanding of the variable, to convert a non-linear relation into a linear one, or to\n",
    "decrease the skewness and convert the distribution into a normal distribution\"\"\""
   ]
  },
  {
   "cell_type": "code",
   "execution_count": 2,
   "id": "fa8e03fa",
   "metadata": {},
   "outputs": [],
   "source": [
    "# Importing libraries\n",
    "import pandas as pd\n",
    "import numpy as np"
   ]
  },
  {
   "cell_type": "code",
   "execution_count": 3,
   "id": "a84db917",
   "metadata": {},
   "outputs": [
    {
     "data": {
      "text/html": [
       "<div>\n",
       "<style scoped>\n",
       "    .dataframe tbody tr th:only-of-type {\n",
       "        vertical-align: middle;\n",
       "    }\n",
       "\n",
       "    .dataframe tbody tr th {\n",
       "        vertical-align: top;\n",
       "    }\n",
       "\n",
       "    .dataframe thead th {\n",
       "        text-align: right;\n",
       "    }\n",
       "</style>\n",
       "<table border=\"1\" class=\"dataframe\">\n",
       "  <thead>\n",
       "    <tr style=\"text-align: right;\">\n",
       "      <th></th>\n",
       "      <th>Firstname</th>\n",
       "      <th>Lastname</th>\n",
       "      <th>Gender</th>\n",
       "      <th>SPOS</th>\n",
       "      <th>DSBDA</th>\n",
       "      <th>WT</th>\n",
       "      <th>DA</th>\n",
       "    </tr>\n",
       "  </thead>\n",
       "  <tbody>\n",
       "    <tr>\n",
       "      <th>0</th>\n",
       "      <td>LA</td>\n",
       "      <td>Roy</td>\n",
       "      <td>M</td>\n",
       "      <td>85.0</td>\n",
       "      <td>88</td>\n",
       "      <td>90.0</td>\n",
       "      <td>92</td>\n",
       "    </tr>\n",
       "    <tr>\n",
       "      <th>1</th>\n",
       "      <td>SA</td>\n",
       "      <td>Dixit</td>\n",
       "      <td>F</td>\n",
       "      <td>90.0</td>\n",
       "      <td>90</td>\n",
       "      <td>94.0</td>\n",
       "      <td>95</td>\n",
       "    </tr>\n",
       "    <tr>\n",
       "      <th>2</th>\n",
       "      <td>AB</td>\n",
       "      <td>Danial</td>\n",
       "      <td>M</td>\n",
       "      <td>NaN</td>\n",
       "      <td>na</td>\n",
       "      <td>100.0</td>\n",
       "      <td>80</td>\n",
       "    </tr>\n",
       "    <tr>\n",
       "      <th>3</th>\n",
       "      <td>DA</td>\n",
       "      <td>Kapoor</td>\n",
       "      <td>M</td>\n",
       "      <td>95.0</td>\n",
       "      <td>86</td>\n",
       "      <td>500.0</td>\n",
       "      <td>82</td>\n",
       "    </tr>\n",
       "    <tr>\n",
       "      <th>4</th>\n",
       "      <td>SA</td>\n",
       "      <td>Jha</td>\n",
       "      <td>F</td>\n",
       "      <td>NaN</td>\n",
       "      <td>84</td>\n",
       "      <td>98.0</td>\n",
       "      <td>84</td>\n",
       "    </tr>\n",
       "    <tr>\n",
       "      <th>5</th>\n",
       "      <td>WS</td>\n",
       "      <td>Thakur</td>\n",
       "      <td>F</td>\n",
       "      <td>87.0</td>\n",
       "      <td>NaN</td>\n",
       "      <td>97.0</td>\n",
       "      <td>86</td>\n",
       "    </tr>\n",
       "    <tr>\n",
       "      <th>6</th>\n",
       "      <td>DY</td>\n",
       "      <td>Kapoor</td>\n",
       "      <td>M</td>\n",
       "      <td>81.0</td>\n",
       "      <td>80</td>\n",
       "      <td>96.0</td>\n",
       "      <td>89</td>\n",
       "    </tr>\n",
       "    <tr>\n",
       "      <th>7</th>\n",
       "      <td>JK</td>\n",
       "      <td>Khanna</td>\n",
       "      <td>F</td>\n",
       "      <td>40.0</td>\n",
       "      <td>88</td>\n",
       "      <td>95.0</td>\n",
       "      <td>87</td>\n",
       "    </tr>\n",
       "    <tr>\n",
       "      <th>8</th>\n",
       "      <td>RT</td>\n",
       "      <td>Pardesi</td>\n",
       "      <td>M</td>\n",
       "      <td>10.0</td>\n",
       "      <td>96</td>\n",
       "      <td>94.0</td>\n",
       "      <td>88</td>\n",
       "    </tr>\n",
       "    <tr>\n",
       "      <th>9</th>\n",
       "      <td>UV</td>\n",
       "      <td>Pardesi</td>\n",
       "      <td>M</td>\n",
       "      <td>9.0</td>\n",
       "      <td>NaN</td>\n",
       "      <td>93.0</td>\n",
       "      <td>96</td>\n",
       "    </tr>\n",
       "    <tr>\n",
       "      <th>10</th>\n",
       "      <td>MN</td>\n",
       "      <td>Desai</td>\n",
       "      <td>F</td>\n",
       "      <td>200.0</td>\n",
       "      <td>87</td>\n",
       "      <td>NaN</td>\n",
       "      <td>N.A</td>\n",
       "    </tr>\n",
       "    <tr>\n",
       "      <th>11</th>\n",
       "      <td>BC</td>\n",
       "      <td>Patel</td>\n",
       "      <td>F</td>\n",
       "      <td>300.0</td>\n",
       "      <td>NaN</td>\n",
       "      <td>88.0</td>\n",
       "      <td>300</td>\n",
       "    </tr>\n",
       "  </tbody>\n",
       "</table>\n",
       "</div>"
      ],
      "text/plain": [
       "   Firstname Lastname Gender   SPOS DSBDA     WT   DA\n",
       "0         LA      Roy      M   85.0    88   90.0   92\n",
       "1         SA    Dixit      F   90.0    90   94.0   95\n",
       "2         AB   Danial      M    NaN    na  100.0   80\n",
       "3         DA   Kapoor      M   95.0    86  500.0   82\n",
       "4         SA      Jha      F    NaN    84   98.0   84\n",
       "5         WS   Thakur      F   87.0   NaN   97.0   86\n",
       "6         DY   Kapoor      M   81.0    80   96.0   89\n",
       "7         JK   Khanna      F   40.0    88   95.0   87\n",
       "8         RT  Pardesi      M   10.0    96   94.0   88\n",
       "9         UV  Pardesi      M    9.0   NaN   93.0   96\n",
       "10        MN    Desai      F  200.0    87    NaN  N.A\n",
       "11        BC    Patel      F  300.0   NaN   88.0  300"
      ]
     },
     "execution_count": 3,
     "metadata": {},
     "output_type": "execute_result"
    }
   ],
   "source": [
    "# Read csv file into a pandas dataframe\n",
    "df = pd.read_csv(\"C:\\\\Users\\\\rhuta\\Downloads\\\\academic_data.csv - academic_data.csv.csv\")\n",
    "df"
   ]
  },
  {
   "cell_type": "code",
   "execution_count": 4,
   "id": "8ccde570",
   "metadata": {},
   "outputs": [
    {
     "name": "stdout",
     "output_type": "stream",
     "text": [
      "  Firstname Lastname Gender  SPOS DSBDA     WT  DA\n",
      "0        LA      Roy      M  85.0    88   90.0  92\n",
      "1        SA    Dixit      F  90.0    90   94.0  95\n",
      "2        AB   Danial      M   NaN    na  100.0  80\n",
      "3        DA   Kapoor      M  95.0    86  500.0  82\n",
      "4        SA      Jha      F   NaN    84   98.0  84\n"
     ]
    }
   ],
   "source": [
    "# Prints out the first few rows\n",
    "print(df.head())"
   ]
  },
  {
   "cell_type": "code",
   "execution_count": 5,
   "id": "e91b1d89",
   "metadata": {},
   "outputs": [],
   "source": [
    "missing_value_formats = [\"n.a.\",\"?\",\"NA\",\"n/a\", \"na\", \"--\"]\n",
    "df = pd.read_csv(\"C:\\\\Users\\\\rhuta\\Downloads\\\\academic_data.csv - academic_data.csv.csv\")"
   ]
  },
  {
   "cell_type": "code",
   "execution_count": 6,
   "id": "ce62705a",
   "metadata": {},
   "outputs": [
    {
     "name": "stdout",
     "output_type": "stream",
     "text": [
      "0    M\n",
      "1    F\n",
      "2    M\n",
      "3    M\n",
      "4    F\n",
      "5    F\n",
      "6    M\n",
      "7    F\n",
      "8    M\n",
      "9    M\n",
      "Name: Gender, dtype: object\n"
     ]
    }
   ],
   "source": [
    "#print gender again\n",
    "print(df['Gender'].head(10))"
   ]
  },
  {
   "cell_type": "code",
   "execution_count": 7,
   "id": "6aca21f5",
   "metadata": {},
   "outputs": [
    {
     "name": "stdout",
     "output_type": "stream",
     "text": [
      "0    False\n",
      "1    False\n",
      "2    False\n",
      "3    False\n",
      "4    False\n",
      "5    False\n",
      "6    False\n",
      "7    False\n",
      "8    False\n",
      "9    False\n",
      "Name: Gender, dtype: bool\n",
      "0    True\n",
      "1    True\n",
      "2    True\n",
      "3    True\n",
      "4    True\n",
      "5    True\n",
      "6    True\n",
      "7    True\n",
      "8    True\n",
      "9    True\n",
      "Name: Gender, dtype: bool\n"
     ]
    }
   ],
   "source": [
    "# NaN values are marked True\n",
    "print(df['Gender'].isnull().head(10))\n",
    "# NaN values are marked False\n",
    "print(df['Gender'].notnull().head(10))"
   ]
  },
  {
   "cell_type": "code",
   "execution_count": 8,
   "id": "e4d557ca",
   "metadata": {},
   "outputs": [
    {
     "name": "stdout",
     "output_type": "stream",
     "text": [
      "   Firstname Lastname Gender   SPOS DSBDA     WT   DA\n",
      "0         LA      Roy      M   85.0    88   90.0   92\n",
      "1         SA    Dixit      F   90.0    90   94.0   95\n",
      "2         AB   Danial      M    NaN    na  100.0   80\n",
      "3         DA   Kapoor      M   95.0    86  500.0   82\n",
      "4         SA      Jha      F    NaN    84   98.0   84\n",
      "5         WS   Thakur      F   87.0   NaN   97.0   86\n",
      "6         DY   Kapoor      M   81.0    80   96.0   89\n",
      "7         JK   Khanna      F   40.0    88   95.0   87\n",
      "8         RT  Pardesi      M   10.0    96   94.0   88\n",
      "9         UV  Pardesi      M    9.0   NaN   93.0   96\n",
      "10        MN    Desai      F  200.0    87    NaN  N.A\n",
      "11        BC    Patel      F  300.0   NaN   88.0  300\n",
      "True\n"
     ]
    }
   ],
   "source": [
    "# notnull will return False for all NaN values\n",
    "null_filter = df['Gender'].notnull()\n",
    "# prints only those rows where null_filter is True\n",
    "print(df[null_filter])\n",
    "print(df.isnull().values.any())"
   ]
  },
  {
   "cell_type": "code",
   "execution_count": 9,
   "id": "f7a9cbf9",
   "metadata": {},
   "outputs": [],
   "source": [
    "# drop all rows with NaN values\n",
    "df.dropna(axis=0,inplace=True)"
   ]
  },
  {
   "cell_type": "code",
   "execution_count": 10,
   "id": "7e3ba54d",
   "metadata": {},
   "outputs": [],
   "source": [
    "# drop all rows with atleast one NaN\n",
    "new_df = df.dropna(axis = 0, how ='any') "
   ]
  },
  {
   "cell_type": "code",
   "execution_count": 11,
   "id": "ab00427e",
   "metadata": {},
   "outputs": [],
   "source": [
    "# drop all rows with all NaN\n",
    "new_df = df.dropna(axis = 0, how ='all')"
   ]
  },
  {
   "cell_type": "code",
   "execution_count": 12,
   "id": "63de81f3",
   "metadata": {},
   "outputs": [],
   "source": [
    "# drop all columns with atleast one NaN\n",
    "new_df = df.dropna(axis = 1, how ='any')"
   ]
  },
  {
   "cell_type": "code",
   "execution_count": 13,
   "id": "79348212",
   "metadata": {},
   "outputs": [],
   "source": [
    "# drop all columns with all NaN\n",
    "new_df = df.dropna(axis = 1, how ='all')"
   ]
  },
  {
   "cell_type": "code",
   "execution_count": 14,
   "id": "ef1b6778",
   "metadata": {},
   "outputs": [],
   "source": [
    "#Imputing Missing Values in our Dataset\n",
    "#There are many options to pick from when replacing a missing value:\n",
    "#A single pre-decided constant value, such as 0.\n",
    "#Taking value from another randomly selected sample.\n",
    "#Mean, median, or mode for the column.\n",
    "#Interpolate value using a predictive model."
   ]
  },
  {
   "cell_type": "code",
   "execution_count": 15,
   "id": "f219d8f4",
   "metadata": {},
   "outputs": [],
   "source": [
    "#Replacing NaNs with a single constant value"
   ]
  },
  {
   "cell_type": "code",
   "execution_count": 16,
   "id": "4ce9a381",
   "metadata": {},
   "outputs": [
    {
     "name": "stdout",
     "output_type": "stream",
     "text": [
      "0    85.0\n",
      "1    90.0\n",
      "3    95.0\n",
      "6    81.0\n",
      "7    40.0\n",
      "8    10.0\n",
      "Name: SPOS, dtype: float64\n"
     ]
    }
   ],
   "source": [
    "df['SPOS'].fillna(0, inplace=True)\n",
    "# To check changes call\n",
    "print(df['SPOS'].head(10))"
   ]
  },
  {
   "cell_type": "code",
   "execution_count": 17,
   "id": "e5da9097",
   "metadata": {},
   "outputs": [
    {
     "name": "stdout",
     "output_type": "stream",
     "text": [
      "0    85.0\n",
      "1    90.0\n",
      "3    95.0\n",
      "6    81.0\n",
      "7    40.0\n",
      "8    10.0\n",
      "Name: SPOS, dtype: float64\n"
     ]
    }
   ],
   "source": [
    "#Replacing NaNs with the value from the previous row or the next row\n",
    "#method = 'pad’ for taking values from the previous row\n",
    "df['DSBDA'].fillna(method='pad', inplace=True)\n",
    "print(df['SPOS'].head(10))"
   ]
  },
  {
   "cell_type": "code",
   "execution_count": 18,
   "id": "cbf9875e",
   "metadata": {},
   "outputs": [
    {
     "name": "stdout",
     "output_type": "stream",
     "text": [
      "0    85.0\n",
      "1    90.0\n",
      "3    95.0\n",
      "6    81.0\n",
      "7    40.0\n",
      "8    10.0\n",
      "Name: SPOS, dtype: float64\n"
     ]
    }
   ],
   "source": [
    "# We use method = 'bfill’ for taking values from the next row.\n",
    "df['SPOS'].fillna(method='bfill', inplace=True)\n",
    "print(df['SPOS'].head(10))"
   ]
  },
  {
   "cell_type": "code",
   "execution_count": 19,
   "id": "e7bfdc08",
   "metadata": {},
   "outputs": [],
   "source": [
    "#2. Scan all numeric variables for outliers. If there are outliers, use any of the suitable\n",
    "#techniques to deal with them. "
   ]
  },
  {
   "cell_type": "code",
   "execution_count": 20,
   "id": "69fb43de",
   "metadata": {},
   "outputs": [],
   "source": [
    "import matplotlib.pyplot as plt"
   ]
  },
  {
   "cell_type": "code",
   "execution_count": 21,
   "id": "aff52f88",
   "metadata": {},
   "outputs": [
    {
     "data": {
      "text/html": [
       "<div>\n",
       "<style scoped>\n",
       "    .dataframe tbody tr th:only-of-type {\n",
       "        vertical-align: middle;\n",
       "    }\n",
       "\n",
       "    .dataframe tbody tr th {\n",
       "        vertical-align: top;\n",
       "    }\n",
       "\n",
       "    .dataframe thead th {\n",
       "        text-align: right;\n",
       "    }\n",
       "</style>\n",
       "<table border=\"1\" class=\"dataframe\">\n",
       "  <thead>\n",
       "    <tr style=\"text-align: right;\">\n",
       "      <th></th>\n",
       "      <th>Firstname</th>\n",
       "      <th>Lastname</th>\n",
       "      <th>Gender</th>\n",
       "      <th>SPOS</th>\n",
       "      <th>DSBDA</th>\n",
       "      <th>WT</th>\n",
       "      <th>DA</th>\n",
       "    </tr>\n",
       "  </thead>\n",
       "  <tbody>\n",
       "    <tr>\n",
       "      <th>0</th>\n",
       "      <td>LA</td>\n",
       "      <td>Roy</td>\n",
       "      <td>M</td>\n",
       "      <td>85.0</td>\n",
       "      <td>88</td>\n",
       "      <td>90.0</td>\n",
       "      <td>92</td>\n",
       "    </tr>\n",
       "    <tr>\n",
       "      <th>1</th>\n",
       "      <td>SA</td>\n",
       "      <td>Dixit</td>\n",
       "      <td>F</td>\n",
       "      <td>90.0</td>\n",
       "      <td>90</td>\n",
       "      <td>94.0</td>\n",
       "      <td>95</td>\n",
       "    </tr>\n",
       "    <tr>\n",
       "      <th>3</th>\n",
       "      <td>DA</td>\n",
       "      <td>Kapoor</td>\n",
       "      <td>M</td>\n",
       "      <td>95.0</td>\n",
       "      <td>86</td>\n",
       "      <td>500.0</td>\n",
       "      <td>82</td>\n",
       "    </tr>\n",
       "    <tr>\n",
       "      <th>6</th>\n",
       "      <td>DY</td>\n",
       "      <td>Kapoor</td>\n",
       "      <td>M</td>\n",
       "      <td>81.0</td>\n",
       "      <td>80</td>\n",
       "      <td>96.0</td>\n",
       "      <td>89</td>\n",
       "    </tr>\n",
       "    <tr>\n",
       "      <th>7</th>\n",
       "      <td>JK</td>\n",
       "      <td>Khanna</td>\n",
       "      <td>F</td>\n",
       "      <td>40.0</td>\n",
       "      <td>88</td>\n",
       "      <td>95.0</td>\n",
       "      <td>87</td>\n",
       "    </tr>\n",
       "  </tbody>\n",
       "</table>\n",
       "</div>"
      ],
      "text/plain": [
       "  Firstname Lastname Gender  SPOS DSBDA     WT  DA\n",
       "0        LA      Roy      M  85.0    88   90.0  92\n",
       "1        SA    Dixit      F  90.0    90   94.0  95\n",
       "3        DA   Kapoor      M  95.0    86  500.0  82\n",
       "6        DY   Kapoor      M  81.0    80   96.0  89\n",
       "7        JK   Khanna      F  40.0    88   95.0  87"
      ]
     },
     "execution_count": 21,
     "metadata": {},
     "output_type": "execute_result"
    }
   ],
   "source": [
    "df.head()"
   ]
  },
  {
   "cell_type": "code",
   "execution_count": 22,
   "id": "09314b25",
   "metadata": {},
   "outputs": [
    {
     "data": {
      "text/plain": [
       "(6, 7)"
      ]
     },
     "execution_count": 22,
     "metadata": {},
     "output_type": "execute_result"
    }
   ],
   "source": [
    "df.shape"
   ]
  },
  {
   "cell_type": "code",
   "execution_count": 23,
   "id": "c768811b",
   "metadata": {},
   "outputs": [
    {
     "data": {
      "text/plain": [
       "{'whiskers': [<matplotlib.lines.Line2D at 0x234d75ad820>,\n",
       "  <matplotlib.lines.Line2D at 0x234d75adaf0>],\n",
       " 'caps': [<matplotlib.lines.Line2D at 0x234d75ade80>,\n",
       "  <matplotlib.lines.Line2D at 0x234d95cb0d0>],\n",
       " 'boxes': [<matplotlib.lines.Line2D at 0x234d75ad550>],\n",
       " 'medians': [<matplotlib.lines.Line2D at 0x234d95cb3a0>],\n",
       " 'fliers': [<matplotlib.lines.Line2D at 0x234d95cb670>],\n",
       " 'means': []}"
      ]
     },
     "execution_count": 23,
     "metadata": {},
     "output_type": "execute_result"
    },
    {
     "data": {
      "image/png": "[encoded data removed]",
      "text/plain": [
       "<Figure size 432x288 with 1 Axes>"
      ]
     },
     "metadata": {
      "needs_background": "light"
     },
     "output_type": "display_data"
    }
   ],
   "source": [
    "plt.boxplot(x=df['SPOS'])"
   ]
  }
 ],
 "metadata": {
  "kernelspec": {
   "display_name": "Python 3 (ipykernel)",
   "language": "python",
   "name": "python3"
  },
  "language_info": {
   "codemirror_mode": {
    "name": "ipython",
    "version": 3
   },
   "file_extension": ".py",
   "mimetype": "text/x-python",
   "name": "python",
   "nbconvert_exporter": "python",
   "pygments_lexer": "ipython3",
   "version": "3.9.12"
  }
 },
 "nbformat": 4,
 "nbformat_minor": 5
}
